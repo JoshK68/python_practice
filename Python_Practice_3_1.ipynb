{
  "nbformat": 4,
  "nbformat_minor": 0,
  "metadata": {
    "colab": {
      "name": "Python_Practice_3/1.ipynb",
      "provenance": [],
      "authorship_tag": "ABX9TyOnz0Uzlb5AbSCvoBm5rRN/",
      "include_colab_link": true
    },
    "kernelspec": {
      "name": "python3",
      "display_name": "Python 3"
    },
    "language_info": {
      "name": "python"
    }
  },
  "cells": [
    {
      "cell_type": "markdown",
      "metadata": {
        "id": "view-in-github",
        "colab_type": "text"
      },
      "source": [
        "<a href=\"https://colab.research.google.com/github/JoshK68/python_practice/blob/main/Python_Practice_3_1.ipynb\" target=\"_parent\"><img src=\"https://colab.research.google.com/assets/colab-badge.svg\" alt=\"Open In Colab\"/></a>"
      ]
    },
    {
      "cell_type": "code",
      "execution_count": 2,
      "metadata": {
        "colab": {
          "base_uri": "https://localhost:8080/"
        },
        "id": "rGWv7priqsbq",
        "outputId": "f1ede150-168e-4e12-f076-8061a8d359ff"
      },
      "outputs": [
        {
          "output_type": "stream",
          "name": "stdout",
          "text": [
            "[('Alice', 125000), ('Josh', 1000000)]\n"
          ]
        }
      ],
      "source": [
        "employees = {'Alice': 125000,\n",
        "             'Bob': 80000,\n",
        "             'Carol':85000,\n",
        "             'Josh':1000000}\n",
        "\n",
        "def top_earners(d):\n",
        "\n",
        "  return [(k,v) for k, v in employees.items() if v >100000]\n",
        "\n",
        "print(top_earners(employees))"
      ]
    },
    {
      "cell_type": "code",
      "source": [
        "#Challenge: How many different numbers are in a list?\n",
        "\n",
        "def unique_nums(lst):\n",
        "\n",
        "  return len(set(lst))\n",
        "\n",
        "\n",
        "print(unique_nums([3, 3, 3, 6, 7, 8, 10, 3])) #5"
      ],
      "metadata": {
        "colab": {
          "base_uri": "https://localhost:8080/"
        },
        "id": "qArKeL30rXXG",
        "outputId": "9c920465-656f-4b4b-9dab-50cda08928ee"
      },
      "execution_count": 3,
      "outputs": [
        {
          "output_type": "stream",
          "name": "stdout",
          "text": [
            "5\n"
          ]
        }
      ]
    },
    {
      "cell_type": "code",
      "source": [
        "def get_rainfall():\n",
        "\n",
        "  rainfall = {}\n",
        "\n",
        "  while True:\n",
        "    city_name = input('Please enter a city name: ')\n",
        "\n",
        "    if not city_name:\n",
        "      break\n",
        "\n",
        "    mm_rain = input('Please enter a todays rainfall: ')\n",
        "\n",
        "    rainfall[city_name] = rainfall.get(city_name, 0) + int(mm_rain)  ###.get() is just like rainfall[city_name] - gets you the value if it's already in the dict\n",
        "                                                                     ###key plus default value\n",
        "  return rainfall\n",
        "\n",
        "  for city, rain in rainfall.items():  #b/c it's a dict we loop through it\n",
        "    print(f'{city}: {rain}')\n",
        "\n",
        "print(get_rainfall())"
      ],
      "metadata": {
        "colab": {
          "base_uri": "https://localhost:8080/"
        },
        "id": "DdjhXTvxrkOu",
        "outputId": "85edb35a-8a47-4e42-ba82-f7771a828e03"
      },
      "execution_count": 4,
      "outputs": [
        {
          "output_type": "stream",
          "name": "stdout",
          "text": [
            "Please enter a city name: Boston\n",
            "Please enter a todays rainfall: 12\n",
            "Please enter a city name: \n",
            "{'Boston': 12}\n"
          ]
        }
      ]
    }
  ]
}